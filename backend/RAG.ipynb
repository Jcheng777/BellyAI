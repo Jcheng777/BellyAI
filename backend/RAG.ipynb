{
 "cells": [
  {
   "cell_type": "code",
   "execution_count": 16,
   "metadata": {},
   "outputs": [],
   "source": [
    "import os\n",
    "import requests \n",
    "from dotenv import load_dotenv\n",
    "from llama_index.core import Document, VectorStoreIndex"
   ]
  },
  {
   "cell_type": "code",
   "execution_count": 3,
   "metadata": {},
   "outputs": [],
   "source": [
    "from serpapi import GoogleSearch"
   ]
  },
  {
   "cell_type": "code",
   "execution_count": 18,
   "metadata": {},
   "outputs": [],
   "source": [
    "load_dotenv()\n",
    "\n",
    "YELP_API_KEY = os.getenv(\"YELP_API_KEY\")\n",
    "SERP_API_KEY = os.getenv(\"SERP_API_KEY\")\n",
    "OPENAI_API_KEY = os.getenv(\"OPENAI_API_KEY\")"
   ]
  },
  {
   "cell_type": "code",
   "execution_count": null,
   "metadata": {},
   "outputs": [
    {
     "name": "stdout",
     "output_type": "stream",
     "text": [
      "VPMvKI4b2oumYFyXumf3Z2ixDbc4JcSYF8mBhLZJNexwltIpLEg7Ra7mGuHMrFijWcyFCiNYSoKOGuqIBd_P1WKiYJ53_cRkjk3MTf7aktsyifVj-XHjOtSu4L14Z3Yx\n",
      "{\"businesses\": [{\"id\": \"klAhw3xLQi9GF1tf_HnS7w\", \"alias\": \"izakaya-mew-new-york-3\", \"name\": \"Izakaya MEW\", \"image_url\": \"https://s3-media4.fl.yelpcdn.com/bphoto/-56mpvzUi0nfYADw2uQXhg/o.jpg\", \"is_closed\": false, \"url\": \"https://www.yelp.com/biz/izakaya-mew-new-york-3?adjust_creative=eJlDLyKWtirAqCcbkO6d9Q&utm_campaign=yelp_api_v3&utm_medium=api_v3_business_search&utm_source=eJlDLyKWtirAqCcbkO6d9Q\", \"review_count\": 3130, \"categories\": [{\"alias\": \"tapas\", \"title\": \"Tapas Bars\"}, {\"alias\": \"sushi\", \"title\": \"Sushi Bars\"}, {\"alias\": \"izakaya\", \"title\": \"Izakaya\"}], \"rating\": 4.3, \"coordinates\": {\"latitude\": 40.750148, \"longitude\": -73.9863203465939}, \"transactions\": [\"delivery\", \"pickup\"], \"price\": \"$$\", \"location\": {\"address1\": \"53 W 35th St\", \"address2\": \"\", \"address3\": \"\", \"city\": \"New York\", \"zip_code\": \"10001\", \"country\": \"US\", \"state\": \"NY\", \"display_address\": [\"53 W 35th St\", \"New York, NY 10001\"]}, \"phone\": \"+16463689384\", \"display_phone\": \"(646) 368-9384\", \"distance\": 5004.54792484731, \"business_hours\": [{\"open\": [{\"is_overnight\": false, \"start\": \"1200\", \"end\": \"1415\", \"day\": 0}, {\"is_overnight\": false, \"start\": \"1700\", \"end\": \"2130\", \"day\": 0}, {\"is_overnight\": false, \"start\": \"1200\", \"end\": \"1415\", \"day\": 1}, {\"is_overnight\": false, \"start\": \"1700\", \"end\": \"2130\", \"day\": 1}, {\"is_overnight\": false, \"start\": \"1200\", \"end\": \"1415\", \"day\": 2}, {\"is_overnight\": false, \"start\": \"1700\", \"end\": \"2130\", \"day\": 2}, {\"is_overnight\": false, \"start\": \"1200\", \"end\": \"1415\", \"day\": 3}, {\"is_overnight\": false, \"start\": \"1700\", \"end\": \"2130\", \"day\": 3}, {\"is_overnight\": false, \"start\": \"1200\", \"end\": \"1415\", \"day\": 4}, {\"is_overnight\": false, \"start\": \"1700\", \"end\": \"2230\", \"day\": 4}, {\"is_overnight\": false, \"start\": \"1200\", \"end\": \"1415\", \"day\": 5}, {\"is_overnight\": false, \"start\": \"1630\", \"end\": \"2230\", \"day\": 5}, {\"is_overnight\": false, \"start\": \"1200\", \"end\": \"1415\", \"day\": 6}, {\"is_overnight\": false, \"start\": \"1630\", \"end\": \"2130\", \"day\": 6}], \"hours_type\": \"REGULAR\", \"is_open_now\": false}], \"attributes\": {\"business_url\": \"http://mewnyc.com\", \"business_temp_closed\": null, \"menu_url\": \"http://mewnyc.com/dinner-menu/\", \"open24_hours\": null, \"waitlist_reservation\": null, \"hot_and_new\": null}}], \"total\": 15000, \"region\": {\"center\": {\"longitude\": -73.99429321289062, \"latitude\": 40.70544486444615}}}\n"
     ]
    }
   ],
   "source": [
    "LOCATION = \"New York City\"\n",
    "SEARCH_TERM = \"Restaurants\"\n",
    "NUM_TO_FETCH = 1  \n",
    "SORT_BY = \"best_match\"\n",
    "\n",
    "HEADERS = {\n",
    "    \"Accept\": \"application/json\",\n",
    "    \"Authorization\": f\"Bearer {YELP_API_KEY}\"\n",
    "}\n",
    "\n",
    "url = f\"https://api.yelp.com/v3/businesses/search?location={LOCATION}&term={SEARCH_TERM}&limit={NUM_TO_FETCH}&sort_by={SORT_BY}\"\n",
    "\n",
    "response = requests.get(url, headers=HEADERS)\n",
    "\n",
    "print(response.text)"
   ]
  },
  {
   "cell_type": "code",
   "execution_count": 11,
   "metadata": {},
   "outputs": [
    {
     "name": "stdout",
     "output_type": "stream",
     "text": [
      "{'businesses': [{'id': 'klAhw3xLQi9GF1tf_HnS7w', 'name': 'Izakaya MEW', 'image_url': 'https://s3-media4.fl.yelpcdn.com/bphoto/-56mpvzUi0nfYADw2uQXhg/o.jpg', 'business_url': 'http://mewnyc.com', 'display_address': '53 W 35th St', 'display_phone': '(646) 368-9384', 'rating': 4.3}]}\n"
     ]
    }
   ],
   "source": [
    "def filter_yelp_results(data):\n",
    "    \"\"\"\n",
    "    Filters each business in the Yelp-like JSON, \n",
    "    keeping only the specified fields:\n",
    "      - id\n",
    "      - name\n",
    "      - image_url\n",
    "      - business_url \n",
    "      - display_address\n",
    "      - display_phone\n",
    "      - rating\n",
    "    \n",
    "    Returns a new dictionary with the 'businesses' key.\n",
    "    \"\"\"\n",
    "    output = {\"businesses\": []}\n",
    "    \n",
    "    # Loop through businesses in the original data\n",
    "    for b in data.get(\"businesses\", []):\n",
    "        business_id = b.get(\"id\")\n",
    "        name = b.get(\"name\")\n",
    "        image_url = b.get(\"image_url\")\n",
    "        rating = b.get(\"rating\")\n",
    "        display_phone = b.get(\"display_phone\")\n",
    "        \n",
    "        location = b.get(\"location\", {})\n",
    "        display_address = location.get(\"display_address\", [])\n",
    "        \n",
    "        attributes = b.get(\"attributes\", {})\n",
    "        business_url = attributes.get(\"business_url\")\n",
    "        \n",
    "        filtered_business = {\n",
    "            \"id\": business_id,\n",
    "            \"name\": name,\n",
    "            \"image_url\": image_url,\n",
    "            \"business_url\": business_url,\n",
    "            \"display_address\": display_address[0],\n",
    "            \"display_phone\": display_phone,\n",
    "            \"rating\": rating\n",
    "        }\n",
    "        \n",
    "        output[\"businesses\"].append(filtered_business)\n",
    "    \n",
    "    return output\n",
    "\n",
    "\n",
    "filtered_data = filter_yelp_results(response.json())\n",
    "print(filtered_data)"
   ]
  },
  {
   "cell_type": "code",
   "execution_count": null,
   "metadata": {},
   "outputs": [],
   "source": [
    "def extract_review_text(business_id, num, api_key):\n",
    "  \"\"\"\n",
    "    Extracts review texts for a given Yelp business using the SerpApi Yelp Reviews engine.\n",
    "\n",
    "    Returns a list of review texts.\n",
    "  \"\"\"\n",
    "  params = {\n",
    "    \"api_key\": api_key,\n",
    "    \"engine\": \"yelp_reviews\",\n",
    "    \"place_id\": business_id,\n",
    "    \"num\": num\n",
    "  }\n",
    "  search = GoogleSearch(params)\n",
    "  results = search.get_dict()\n",
    "\n",
    "  reviews_data = []\n",
    "  if \"reviews\" in results:\n",
    "        for review in results[\"reviews\"]:\n",
    "            comment_text = review.get(\"comment\", {}).get(\"text\", None)\n",
    "            if comment_text:\n",
    "                reviews_data.append(comment_text)\n",
    "    \n",
    "  return reviews_data\n",
    "\n",
    "for i in range(len(filtered_data[\"businesses\"])):\n",
    "    business_id = filtered_data[\"businesses\"][i][\"id\"]\n",
    "    reviews = extract_review_text(business_id, 3, SERP_API_KEY)\n",
    "    filtered_data[\"businesses\"][i][\"reviews\"] = reviews\n"
   ]
  },
  {
   "cell_type": "code",
   "execution_count": 13,
   "metadata": {},
   "outputs": [
    {
     "name": "stdout",
     "output_type": "stream",
     "text": [
      "{'businesses': [{'id': 'klAhw3xLQi9GF1tf_HnS7w', 'name': 'Izakaya MEW', 'image_url': 'https://s3-media4.fl.yelpcdn.com/bphoto/-56mpvzUi0nfYADw2uQXhg/o.jpg', 'business_url': 'http://mewnyc.com', 'display_address': '53 W 35th St', 'display_phone': '(646) 368-9384', 'rating': 4.3, 'reviews': [\"One of the best meals I've ever had. We randomly found this place and must I say WOW! We ordered quite a few tapas and shared. We all raved over the croquettes and the kimchi udon. I will dream about that udon!!! \\n\\nAll our food came out fast, staff was super friendly, and we were seated quickly. We were there at lunch time and had no wait, but I imagine this place could fill up quickly. I HIGHLY recommend this place if you find yourself in Koreatown!\", \"The atmosphere is casual here, and the service is pretty attentive for the most part. I don't have complaints for either, and this place is definitely one of the more affordable restaurants in K-town. There's a lot of variety on the menu, which makes it great for taking anyone whose unsure of what they really want.\\n\\nAge Tofu (6/10): Not the worst agedashi tofu I've had, but definitely one of the cheaper ones I've tasted\\nKara Age (6.5/10): This is some pretty standard kara age fried chicken. Similar to the age tofu above\\nKani Cream Croquettes (7/10): Pretty good croquettes that are fried well\\nTakoyaki Kara Age (7/10): I like this dish a lot, but could be better\\nSalmon Salad (8/10): The sashimi here is surprisingly solid. The salmon is a standout of this dish, and I would definitely recommend any raw salmon dish you order here.\\nOkonomiyaki (6.5/10): This is similar to the chicken kara age, but it's a little pricey for what it is\\nZuke Salmon Don (8.5/10): This is my favorite dish here. It's clean, tasty, and doesn't break the bank! What's not to love?\\nKimchi Cream Udon (7.5/10): Better cream udon than some other places, but overall not the best. Other restaurants under Hand Hospitality have better kimchi cream udon\\nKurobuta Pork Udon (8/10): I personally liked this one a lot, but some others might not\\nMew Special Roll (8/10): This has raw salmon, enough said.\", \"Omg this place is soooo goooood!! Would come back!\\n\\n* Mew Special Roll: 5/5 \\n* Tuna Tartar Roll : 5/5 \\n* creamy kimchi udon: 5/5 \\n* Drinks:\\n- Matcholic : 5/5--matcha infused vodka, st German, mayple syrup, gold flake garnish \\n- Purple mellow : 5/5- butterfly pea tea infused vodka , sake, peach syrup , yuzi & lemon juice, marshmello \\nBoth drinks were good! If I had to pick I'd choose the matcholic !! But would get both \\n* service : fast and friendly \\n* ambiance : typical Korean vibes with bar ! great music, food and drinks\"]}]}\n"
     ]
    }
   ],
   "source": [
    "print(filtered_data)"
   ]
  },
  {
   "cell_type": "code",
   "execution_count": 26,
   "metadata": {},
   "outputs": [
    {
     "name": "stdout",
     "output_type": "stream",
     "text": [
      "--------------------------------------------------------------------------------\n",
      "Review Text: The atmosphere is casual here, and the service is pretty attentive for the most part. I don't have complaints for either, and this place is definitely one of the more affordable restaurants in K-town. There's a lot of variety on the menu, which makes it great for taking anyone whose unsure of what they really want.\n",
      "\n",
      "Age Tofu (6/10): Not the worst agedashi tofu I've had, but definitely one of the cheaper ones I've tasted\n",
      "Kara Age (6.5/10): This is some pretty standard kara age fried chicken. Similar to the age tofu above\n",
      "Kani Cream Croquettes (7/10): Pretty good croquettes that are fried well\n",
      "Takoyaki Kara Age (7/10): I like this dish a lot, but could be better\n",
      "Salmon Salad (8/10): The sashimi here is surprisingly solid. The salmon is a standout of this dish, and I would definitely recommend any raw salmon dish you order here.\n",
      "Okonomiyaki (6.5/10): This is similar to the chicken kara age, but it's a little pricey for what it is\n",
      "Zuke Salmon Don (8.5/10): This is my favorite dish here. It's clean, tasty, and doesn't break the bank! What's not to love?\n",
      "Kimchi Cream Udon (7.5/10): Better cream udon than some other places, but overall not the best. Other restaurants under Hand Hospitality have better kimchi cream udon\n",
      "Kurobuta Pork Udon (8/10): I personally liked this one a lot, but some others might not\n",
      "Mew Special Roll (8/10): This has raw salmon, enough said.\n",
      "Metadata: {'business_id': 'klAhw3xLQi9GF1tf_HnS7w', 'name': 'Izakaya MEW', 'image_url': 'https://s3-media4.fl.yelpcdn.com/bphoto/-56mpvzUi0nfYADw2uQXhg/o.jpg', 'business_url': 'http://mewnyc.com', 'display_address': '53 W 35th St', 'display_phone': '(646) 368-9384', 'rating': 4.3}\n",
      "--------------------------------------------------------------------------------\n",
      "Review Text: One of the best meals I've ever had. We randomly found this place and must I say WOW! We ordered quite a few tapas and shared. We all raved over the croquettes and the kimchi udon. I will dream about that udon!!! \n",
      "\n",
      "All our food came out fast, staff was super friendly, and we were seated quickly. We were there at lunch time and had no wait, but I imagine this place could fill up quickly. I HIGHLY recommend this place if you find yourself in Koreatown!\n",
      "Metadata: {'business_id': 'klAhw3xLQi9GF1tf_HnS7w', 'name': 'Izakaya MEW', 'image_url': 'https://s3-media4.fl.yelpcdn.com/bphoto/-56mpvzUi0nfYADw2uQXhg/o.jpg', 'business_url': 'http://mewnyc.com', 'display_address': '53 W 35th St', 'display_phone': '(646) 368-9384', 'rating': 4.3}\n",
      "--------------------------------------------------------------------------------\n"
     ]
    }
   ],
   "source": [
    "# Step 1: Process JSON into Documents with Metadata\n",
    "documents = []\n",
    "\n",
    "for business in filtered_data[\"businesses\"]:\n",
    "    # Metadata to be attached to each review\n",
    "    metadata = {\n",
    "        \"business_id\": business[\"id\"],\n",
    "        \"name\": business[\"name\"],\n",
    "        \"image_url\": business[\"image_url\"],\n",
    "        \"business_url\": business[\"business_url\"],\n",
    "        \"display_address\": business[\"display_address\"],\n",
    "        \"display_phone\": business[\"display_phone\"],\n",
    "        \"rating\": business[\"rating\"]\n",
    "    }\n",
    "    \n",
    "    # Create a Document for each review\n",
    "    for review in business[\"reviews\"]:\n",
    "        documents.append(Document(text=review, metadata=metadata))\n",
    "\n",
    "# Step 2: Build the Vector Store Index\n",
    "vector_index = VectorStoreIndex.from_documents(documents)\n",
    "\n",
    "# Step 3: Query the Index\n",
    "query_engine = vector_index.as_query_engine()\n",
    "\n",
    "# Step 4: Configure the Retriever\n",
    "retriever = vector_index.as_retriever(\n",
    "    top_k=4,  # Number of top results to retrieve\n",
    ")\n",
    "\n",
    "# Example Retrieval\n",
    "query = \"What restaurants should I try that have great Japanese food?\"\n",
    "retrieved_docs = retriever.retrieve(query)\n",
    "\n",
    "print(\"-\" * 80)\n",
    "\n",
    "# Access the metadata of the retrieved documents\n",
    "for doc in retrieved_docs:\n",
    "    print(\"Review Text:\", doc.text)  # The review content\n",
    "    print(\"Metadata:\", doc.metadata)  # The attached metadata\n",
    "    print(\"-\" * 80)"
   ]
  },
  {
   "cell_type": "code",
   "execution_count": null,
   "metadata": {},
   "outputs": [],
   "source": []
  }
 ],
 "metadata": {
  "kernelspec": {
   "display_name": "BellyAI Env",
   "language": "python",
   "name": "bellyai_env"
  },
  "language_info": {
   "codemirror_mode": {
    "name": "ipython",
    "version": 3
   },
   "file_extension": ".py",
   "mimetype": "text/x-python",
   "name": "python",
   "nbconvert_exporter": "python",
   "pygments_lexer": "ipython3",
   "version": "3.9.6"
  }
 },
 "nbformat": 4,
 "nbformat_minor": 2
}
